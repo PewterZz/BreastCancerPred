{
 "cells": [
  {
   "cell_type": "code",
   "execution_count": 6,
   "id": "21fb9df5-6c13-42a3-b00f-44d2d42c6f23",
   "metadata": {},
   "outputs": [
    {
     "name": "stdout",
     "output_type": "stream",
     "text": [
      "Top 10 features: ['concavity_worst', 'concavity_mean', 'area_mean', 'radius_mean', 'area_worst', 'perimeter_mean', 'radius_worst', 'concave points_mean', 'perimeter_worst', 'concave points_worst']\n",
      "Top 10 scores: [436.69193940305007, 533.7931262035503, 573.0607465682366, 646.9810209786473, 661.6002055336272, 697.235272476532, 860.7817069850373, 861.6760200073135, 897.9442188597807, 964.3853934517133]\n"
     ]
    }
   ],
   "source": [
    "from sklearn.feature_selection import SelectKBest, f_classif\n",
    "import pandas as pd\n",
    "\n",
    "# Load the data into a Pandas DataFrame\n",
    "df = pd.read_csv('data.csv')\n",
    "\n",
    "# Extract the features and target\n",
    "X = df.drop(['diagnosis', 'id', 'Unnamed: 32'], axis=1)\n",
    "y = df['diagnosis']\n",
    "\n",
    "df.eq(0).sum()\n",
    "mean_con = df[df['concavity_mean'] != 0]['concavity_mean'].mean()\n",
    "mean_con_m = df[df['concave points_mean'] != 0]['concave points_mean'].mean()\n",
    "mean_con_se = df[df['concavity_se'] != 0]['concavity_se'].mean()\n",
    "mean_con_m_se = df[df['concave points_se'] != 0]['concave points_se'].mean()\n",
    "mean_con_w = df[df['concavity_worst'] != 0]['concavity_worst'].mean()\n",
    "mean_con_m_w = df[df['concave points_worst'] != 0]['concave points_worst'].mean()\n",
    "\n",
    "df['concavity_mean'].replace(0, mean_con, inplace=True)\n",
    "df['concave points_mean'].replace(0, mean_con_m, inplace=True)\n",
    "df['concavity_se'].replace(0, mean_con_se, inplace=True)\n",
    "df['concave points_se'].replace(0, mean_con_m_se, inplace=True)\n",
    "df['concavity_worst'].replace(0, mean_con_w, inplace=True)\n",
    "df['concave points_worst'].replace(0, mean_con_m_w, inplace=True)\n",
    "\n",
    "# Select the top k features with SelectKBest\n",
    "k = 10\n",
    "selector = SelectKBest(f_classif, k=k)\n",
    "selector.fit(X, y)\n",
    "\n",
    "# Get the feature names and scores\n",
    "feature_names = X.columns\n",
    "scores = selector.scores_\n",
    "\n",
    "# Sort the scores and get the top k\n",
    "top_k_idxs = scores.argsort()[-k:]\n",
    "top_k_features = [feature_names[i] for i in top_k_idxs]\n",
    "top_k_scores = [scores[i] for i in top_k_idxs]\n",
    "\n",
    "# Print the top k features and scores\n",
    "print(f'Top {k} features: {top_k_features}')\n",
    "print(f'Top {k} scores: {top_k_scores}')"
   ]
  },
  {
   "cell_type": "code",
   "execution_count": null,
   "id": "649dd745-ce09-47c1-8334-bc2dd644ce59",
   "metadata": {},
   "outputs": [],
   "source": []
  },
  {
   "cell_type": "code",
   "execution_count": null,
   "id": "06299455-e20a-46f4-b707-0dcd4defc4a4",
   "metadata": {},
   "outputs": [],
   "source": []
  }
 ],
 "metadata": {
  "kernelspec": {
   "display_name": "Python 3 (ipykernel)",
   "language": "python",
   "name": "python3"
  },
  "language_info": {
   "codemirror_mode": {
    "name": "ipython",
    "version": 3
   },
   "file_extension": ".py",
   "mimetype": "text/x-python",
   "name": "python",
   "nbconvert_exporter": "python",
   "pygments_lexer": "ipython3",
   "version": "3.9.12"
  }
 },
 "nbformat": 4,
 "nbformat_minor": 5
}

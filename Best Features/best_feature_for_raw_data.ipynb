{
 "cells": [
  {
   "cell_type": "code",
   "execution_count": 1,
   "metadata": {},
   "outputs": [],
   "source": [
    "import pandas as pd\n",
    "import numpy as np\n",
    "from sklearn.feature_selection import SelectKBest, chi2"
   ]
  },
  {
   "cell_type": "code",
   "execution_count": 2,
   "metadata": {},
   "outputs": [
    {
     "data": {
      "text/html": [
       "<div>\n",
       "<style scoped>\n",
       "    .dataframe tbody tr th:only-of-type {\n",
       "        vertical-align: middle;\n",
       "    }\n",
       "\n",
       "    .dataframe tbody tr th {\n",
       "        vertical-align: top;\n",
       "    }\n",
       "\n",
       "    .dataframe thead th {\n",
       "        text-align: right;\n",
       "    }\n",
       "</style>\n",
       "<table border=\"1\" class=\"dataframe\">\n",
       "  <thead>\n",
       "    <tr style=\"text-align: right;\">\n",
       "      <th></th>\n",
       "      <th>Grouping</th>\n",
       "      <th>Age (years)</th>\n",
       "      <th>Education</th>\n",
       "      <th>Working status</th>\n",
       "      <th>Marital status</th>\n",
       "      <th>Menarche (years)</th>\n",
       "      <th>Menopause</th>\n",
       "      <th>First pregnancy</th>\n",
       "      <th>Parity</th>\n",
       "      <th>Breastfeeding</th>\n",
       "      <th>Highfat</th>\n",
       "      <th>BMI</th>\n",
       "      <th>Ethnicity</th>\n",
       "    </tr>\n",
       "  </thead>\n",
       "  <tbody>\n",
       "    <tr>\n",
       "      <th>0</th>\n",
       "      <td>BC</td>\n",
       "      <td>&gt;= 50</td>\n",
       "      <td>Senior high school</td>\n",
       "      <td>Housewife</td>\n",
       "      <td>Marriage</td>\n",
       "      <td>12  to 13</td>\n",
       "      <td>&lt; 50 years</td>\n",
       "      <td>20-29 years</td>\n",
       "      <td>&gt;= Multiparous</td>\n",
       "      <td>&gt;=12 months</td>\n",
       "      <td>Normal</td>\n",
       "      <td>Obesity</td>\n",
       "      <td>Minangnese</td>\n",
       "    </tr>\n",
       "    <tr>\n",
       "      <th>1</th>\n",
       "      <td>Non-BC</td>\n",
       "      <td>&gt;= 50</td>\n",
       "      <td>Vocational degree</td>\n",
       "      <td>Master's student</td>\n",
       "      <td>Single/ widow</td>\n",
       "      <td>&gt;13</td>\n",
       "      <td>&lt; 50 years</td>\n",
       "      <td>&gt;30 years</td>\n",
       "      <td>&gt;= Multiparous</td>\n",
       "      <td>&lt;12 months</td>\n",
       "      <td>High</td>\n",
       "      <td>Normal</td>\n",
       "      <td>Minangnese</td>\n",
       "    </tr>\n",
       "    <tr>\n",
       "      <th>2</th>\n",
       "      <td>BC</td>\n",
       "      <td>&gt;= 50</td>\n",
       "      <td>Senior high school</td>\n",
       "      <td>Housewife</td>\n",
       "      <td>Marriage</td>\n",
       "      <td>7 to 11</td>\n",
       "      <td>&lt; 50 years</td>\n",
       "      <td>20-29 years</td>\n",
       "      <td>&gt;= Multiparous</td>\n",
       "      <td>&gt;=12 months</td>\n",
       "      <td>Normal</td>\n",
       "      <td>Normal</td>\n",
       "      <td>Javanese</td>\n",
       "    </tr>\n",
       "    <tr>\n",
       "      <th>3</th>\n",
       "      <td>Non-BC</td>\n",
       "      <td>&gt;= 50</td>\n",
       "      <td>Senior high school</td>\n",
       "      <td>Master's student</td>\n",
       "      <td>Marriage</td>\n",
       "      <td>12  to 13</td>\n",
       "      <td>&lt; 50 years</td>\n",
       "      <td>20-29 years</td>\n",
       "      <td>Primiparous</td>\n",
       "      <td>&gt;=12 months</td>\n",
       "      <td>High</td>\n",
       "      <td>Normal</td>\n",
       "      <td>Javanese</td>\n",
       "    </tr>\n",
       "    <tr>\n",
       "      <th>4</th>\n",
       "      <td>BC</td>\n",
       "      <td>&gt;= 50</td>\n",
       "      <td>Senior high school</td>\n",
       "      <td>Private servant</td>\n",
       "      <td>Marriage</td>\n",
       "      <td>&gt;13</td>\n",
       "      <td>&lt; 50 years</td>\n",
       "      <td>20-29 years</td>\n",
       "      <td>&gt;= Multiparous</td>\n",
       "      <td>&gt;=12 months</td>\n",
       "      <td>High</td>\n",
       "      <td>Normal</td>\n",
       "      <td>Minangnese</td>\n",
       "    </tr>\n",
       "  </tbody>\n",
       "</table>\n",
       "</div>"
      ],
      "text/plain": [
       "  Grouping Age (years)           Education    Working status Marital status  \\\n",
       "0       BC       >= 50  Senior high school         Housewife       Marriage   \n",
       "1   Non-BC       >= 50   Vocational degree  Master's student  Single/ widow   \n",
       "2       BC       >= 50  Senior high school         Housewife       Marriage   \n",
       "3   Non-BC       >= 50  Senior high school  Master's student       Marriage   \n",
       "4       BC       >= 50  Senior high school   Private servant       Marriage   \n",
       "\n",
       "  Menarche (years)   Menopause First pregnancy          Parity Breastfeeding  \\\n",
       "0        12  to 13  < 50 years     20-29 years  >= Multiparous   >=12 months   \n",
       "1              >13  < 50 years       >30 years  >= Multiparous    <12 months   \n",
       "2          7 to 11  < 50 years     20-29 years  >= Multiparous   >=12 months   \n",
       "3        12  to 13  < 50 years     20-29 years     Primiparous   >=12 months   \n",
       "4              >13  < 50 years     20-29 years  >= Multiparous   >=12 months   \n",
       "\n",
       "  Highfat      BMI   Ethnicity  \n",
       "0  Normal  Obesity  Minangnese  \n",
       "1    High   Normal  Minangnese  \n",
       "2  Normal   Normal    Javanese  \n",
       "3    High   Normal    Javanese  \n",
       "4    High   Normal  Minangnese  "
      ]
     },
     "execution_count": 2,
     "metadata": {},
     "output_type": "execute_result"
    }
   ],
   "source": [
    "df = pd.read_excel(\"../Data/Raw_data_corrected.xls\")\n",
    "df.head()"
   ]
  },
  {
   "cell_type": "code",
   "execution_count": 3,
   "metadata": {},
   "outputs": [
    {
     "data": {
      "text/plain": [
       "Grouping            0\n",
       "Age (years)         0\n",
       "Education           0\n",
       "Working status      0\n",
       "Marital status      0\n",
       "Menarche (years)    0\n",
       "Menopause           0\n",
       "First pregnancy     0\n",
       "Parity              0\n",
       "Breastfeeding       0\n",
       "Highfat             0\n",
       "BMI                 0\n",
       "Ethnicity           0\n",
       "dtype: int64"
      ]
     },
     "execution_count": 3,
     "metadata": {},
     "output_type": "execute_result"
    }
   ],
   "source": [
    "df.isnull().sum()"
   ]
  },
  {
   "cell_type": "code",
   "execution_count": 4,
   "metadata": {},
   "outputs": [
    {
     "name": "stdout",
     "output_type": "stream",
     "text": [
      "<class 'pandas.core.frame.DataFrame'>\n",
      "RangeIndex: 400 entries, 0 to 399\n",
      "Data columns (total 13 columns):\n",
      " #   Column            Non-Null Count  Dtype \n",
      "---  ------            --------------  ----- \n",
      " 0   Grouping          400 non-null    object\n",
      " 1   Age (years)       400 non-null    object\n",
      " 2   Education         400 non-null    object\n",
      " 3   Working status    400 non-null    object\n",
      " 4   Marital status    400 non-null    object\n",
      " 5   Menarche (years)  400 non-null    object\n",
      " 6   Menopause         400 non-null    object\n",
      " 7   First pregnancy   400 non-null    object\n",
      " 8   Parity            400 non-null    object\n",
      " 9   Breastfeeding     400 non-null    object\n",
      " 10  Highfat           400 non-null    object\n",
      " 11  BMI               400 non-null    object\n",
      " 12  Ethnicity         400 non-null    object\n",
      "dtypes: object(13)\n",
      "memory usage: 40.8+ KB\n"
     ]
    }
   ],
   "source": [
    "df.info()"
   ]
  },
  {
   "cell_type": "code",
   "execution_count": 5,
   "metadata": {},
   "outputs": [
    {
     "name": "stdout",
     "output_type": "stream",
     "text": [
      "Grouping: ['BC' 'Non-BC']\n",
      "Age (years): ['< 50' '>= 50']\n",
      "Education: ['Elementary school' 'Junior high school' 'Master degree' 'No school'\n",
      " 'Senior high school' 'Undergraduate degree' 'Vocational degree']\n",
      "Working status: ['Civil servant' 'Enterpreneur' 'Farmer' 'Housewife' \"Master's student\"\n",
      " 'Private servant' 'Retired']\n",
      "Marital status: ['Marriage' 'Single/ widow']\n",
      "Menarche (years): ['12  to 13' '7 to 11' '>13']\n",
      "Menopause: ['< 50 years' '>= 50 years']\n",
      "First pregnancy: ['20-29 years' '< 20 years' '>30 years' 'None']\n",
      "Parity: ['>= Multiparous' 'Nulliparous' 'Primiparous']\n",
      "Breastfeeding: ['<12 months' '>=12 months']\n",
      "Highfat: ['High' 'Normal']\n",
      "BMI: ['Normal' 'Obesity' 'Overweight']\n",
      "Ethnicity: ['Javanese' 'Minangnese']\n"
     ]
    }
   ],
   "source": [
    "for col in df.columns:\n",
    "    print(f\"{col}: {np.unique(df[col])}\")"
   ]
  },
  {
   "cell_type": "code",
   "execution_count": 6,
   "metadata": {},
   "outputs": [
    {
     "data": {
      "text/html": [
       "<div>\n",
       "<style scoped>\n",
       "    .dataframe tbody tr th:only-of-type {\n",
       "        vertical-align: middle;\n",
       "    }\n",
       "\n",
       "    .dataframe tbody tr th {\n",
       "        vertical-align: top;\n",
       "    }\n",
       "\n",
       "    .dataframe thead th {\n",
       "        text-align: right;\n",
       "    }\n",
       "</style>\n",
       "<table border=\"1\" class=\"dataframe\">\n",
       "  <thead>\n",
       "    <tr style=\"text-align: right;\">\n",
       "      <th></th>\n",
       "      <th>Grouping</th>\n",
       "      <th>Age (years)</th>\n",
       "      <th>Education</th>\n",
       "      <th>Working status</th>\n",
       "      <th>Marital status</th>\n",
       "      <th>Menarche (years)</th>\n",
       "      <th>Menopause</th>\n",
       "      <th>First pregnancy</th>\n",
       "      <th>Parity</th>\n",
       "      <th>Breastfeeding</th>\n",
       "      <th>Highfat</th>\n",
       "      <th>BMI</th>\n",
       "      <th>Ethnicity</th>\n",
       "    </tr>\n",
       "  </thead>\n",
       "  <tbody>\n",
       "    <tr>\n",
       "      <th>0</th>\n",
       "      <td>0</td>\n",
       "      <td>1</td>\n",
       "      <td>4</td>\n",
       "      <td>3</td>\n",
       "      <td>0</td>\n",
       "      <td>0</td>\n",
       "      <td>0</td>\n",
       "      <td>0</td>\n",
       "      <td>0</td>\n",
       "      <td>1</td>\n",
       "      <td>1</td>\n",
       "      <td>1</td>\n",
       "      <td>1</td>\n",
       "    </tr>\n",
       "    <tr>\n",
       "      <th>1</th>\n",
       "      <td>1</td>\n",
       "      <td>1</td>\n",
       "      <td>6</td>\n",
       "      <td>4</td>\n",
       "      <td>1</td>\n",
       "      <td>2</td>\n",
       "      <td>0</td>\n",
       "      <td>2</td>\n",
       "      <td>0</td>\n",
       "      <td>0</td>\n",
       "      <td>0</td>\n",
       "      <td>0</td>\n",
       "      <td>1</td>\n",
       "    </tr>\n",
       "    <tr>\n",
       "      <th>2</th>\n",
       "      <td>0</td>\n",
       "      <td>1</td>\n",
       "      <td>4</td>\n",
       "      <td>3</td>\n",
       "      <td>0</td>\n",
       "      <td>1</td>\n",
       "      <td>0</td>\n",
       "      <td>0</td>\n",
       "      <td>0</td>\n",
       "      <td>1</td>\n",
       "      <td>1</td>\n",
       "      <td>0</td>\n",
       "      <td>0</td>\n",
       "    </tr>\n",
       "    <tr>\n",
       "      <th>3</th>\n",
       "      <td>1</td>\n",
       "      <td>1</td>\n",
       "      <td>4</td>\n",
       "      <td>4</td>\n",
       "      <td>0</td>\n",
       "      <td>0</td>\n",
       "      <td>0</td>\n",
       "      <td>0</td>\n",
       "      <td>2</td>\n",
       "      <td>1</td>\n",
       "      <td>0</td>\n",
       "      <td>0</td>\n",
       "      <td>0</td>\n",
       "    </tr>\n",
       "    <tr>\n",
       "      <th>4</th>\n",
       "      <td>0</td>\n",
       "      <td>1</td>\n",
       "      <td>4</td>\n",
       "      <td>5</td>\n",
       "      <td>0</td>\n",
       "      <td>2</td>\n",
       "      <td>0</td>\n",
       "      <td>0</td>\n",
       "      <td>0</td>\n",
       "      <td>1</td>\n",
       "      <td>0</td>\n",
       "      <td>0</td>\n",
       "      <td>1</td>\n",
       "    </tr>\n",
       "  </tbody>\n",
       "</table>\n",
       "</div>"
      ],
      "text/plain": [
       "   Grouping  Age (years)  Education  Working status  Marital status  \\\n",
       "0         0            1          4               3               0   \n",
       "1         1            1          6               4               1   \n",
       "2         0            1          4               3               0   \n",
       "3         1            1          4               4               0   \n",
       "4         0            1          4               5               0   \n",
       "\n",
       "   Menarche (years)  Menopause  First pregnancy  Parity  Breastfeeding  \\\n",
       "0                 0          0                0       0              1   \n",
       "1                 2          0                2       0              0   \n",
       "2                 1          0                0       0              1   \n",
       "3                 0          0                0       2              1   \n",
       "4                 2          0                0       0              1   \n",
       "\n",
       "   Highfat  BMI  Ethnicity  \n",
       "0        1    1          1  \n",
       "1        0    0          1  \n",
       "2        1    0          0  \n",
       "3        0    0          0  \n",
       "4        0    0          1  "
      ]
     },
     "execution_count": 6,
     "metadata": {},
     "output_type": "execute_result"
    }
   ],
   "source": [
    "for col in df.columns:\n",
    "    df[col].replace(np.unique(df[col]), [i for i in range(len(np.unique(df[col])))], inplace=True)\n",
    "\n",
    "df.head()"
   ]
  },
  {
   "cell_type": "code",
   "execution_count": 7,
   "metadata": {},
   "outputs": [
    {
     "name": "stdout",
     "output_type": "stream",
     "text": [
      "Grouping: [0 1]\n",
      "Age (years): [0 1]\n",
      "Education: [0 1 2 3 4 5 6]\n",
      "Working status: [0 1 2 3 4 5 6]\n",
      "Marital status: [0 1]\n",
      "Menarche (years): [0 1 2]\n",
      "Menopause: [0 1]\n",
      "First pregnancy: [0 1 2 3]\n",
      "Parity: [0 1 2]\n",
      "Breastfeeding: [0 1]\n",
      "Highfat: [0 1]\n",
      "BMI: [0 1 2]\n",
      "Ethnicity: [0 1]\n"
     ]
    }
   ],
   "source": [
    "for col in df.columns:\n",
    "    print(f\"{col}: {np.unique(df[col])}\")"
   ]
  },
  {
   "cell_type": "code",
   "execution_count": 8,
   "metadata": {},
   "outputs": [
    {
     "data": {
      "text/html": [
       "<div>\n",
       "<style scoped>\n",
       "    .dataframe tbody tr th:only-of-type {\n",
       "        vertical-align: middle;\n",
       "    }\n",
       "\n",
       "    .dataframe tbody tr th {\n",
       "        vertical-align: top;\n",
       "    }\n",
       "\n",
       "    .dataframe thead th {\n",
       "        text-align: right;\n",
       "    }\n",
       "</style>\n",
       "<table border=\"1\" class=\"dataframe\">\n",
       "  <thead>\n",
       "    <tr style=\"text-align: right;\">\n",
       "      <th></th>\n",
       "      <th>Age (years)</th>\n",
       "      <th>Education</th>\n",
       "      <th>Working status</th>\n",
       "      <th>Marital status</th>\n",
       "      <th>Menarche (years)</th>\n",
       "      <th>Menopause</th>\n",
       "      <th>First pregnancy</th>\n",
       "      <th>Parity</th>\n",
       "      <th>Breastfeeding</th>\n",
       "      <th>Highfat</th>\n",
       "      <th>BMI</th>\n",
       "      <th>Ethnicity</th>\n",
       "    </tr>\n",
       "  </thead>\n",
       "  <tbody>\n",
       "    <tr>\n",
       "      <th>0</th>\n",
       "      <td>1</td>\n",
       "      <td>4</td>\n",
       "      <td>3</td>\n",
       "      <td>0</td>\n",
       "      <td>0</td>\n",
       "      <td>0</td>\n",
       "      <td>0</td>\n",
       "      <td>0</td>\n",
       "      <td>1</td>\n",
       "      <td>1</td>\n",
       "      <td>1</td>\n",
       "      <td>1</td>\n",
       "    </tr>\n",
       "    <tr>\n",
       "      <th>1</th>\n",
       "      <td>1</td>\n",
       "      <td>6</td>\n",
       "      <td>4</td>\n",
       "      <td>1</td>\n",
       "      <td>2</td>\n",
       "      <td>0</td>\n",
       "      <td>2</td>\n",
       "      <td>0</td>\n",
       "      <td>0</td>\n",
       "      <td>0</td>\n",
       "      <td>0</td>\n",
       "      <td>1</td>\n",
       "    </tr>\n",
       "    <tr>\n",
       "      <th>2</th>\n",
       "      <td>1</td>\n",
       "      <td>4</td>\n",
       "      <td>3</td>\n",
       "      <td>0</td>\n",
       "      <td>1</td>\n",
       "      <td>0</td>\n",
       "      <td>0</td>\n",
       "      <td>0</td>\n",
       "      <td>1</td>\n",
       "      <td>1</td>\n",
       "      <td>0</td>\n",
       "      <td>0</td>\n",
       "    </tr>\n",
       "    <tr>\n",
       "      <th>3</th>\n",
       "      <td>1</td>\n",
       "      <td>4</td>\n",
       "      <td>4</td>\n",
       "      <td>0</td>\n",
       "      <td>0</td>\n",
       "      <td>0</td>\n",
       "      <td>0</td>\n",
       "      <td>2</td>\n",
       "      <td>1</td>\n",
       "      <td>0</td>\n",
       "      <td>0</td>\n",
       "      <td>0</td>\n",
       "    </tr>\n",
       "    <tr>\n",
       "      <th>4</th>\n",
       "      <td>1</td>\n",
       "      <td>4</td>\n",
       "      <td>5</td>\n",
       "      <td>0</td>\n",
       "      <td>2</td>\n",
       "      <td>0</td>\n",
       "      <td>0</td>\n",
       "      <td>0</td>\n",
       "      <td>1</td>\n",
       "      <td>0</td>\n",
       "      <td>0</td>\n",
       "      <td>1</td>\n",
       "    </tr>\n",
       "  </tbody>\n",
       "</table>\n",
       "</div>"
      ],
      "text/plain": [
       "   Age (years)  Education  Working status  Marital status  Menarche (years)  \\\n",
       "0            1          4               3               0                 0   \n",
       "1            1          6               4               1                 2   \n",
       "2            1          4               3               0                 1   \n",
       "3            1          4               4               0                 0   \n",
       "4            1          4               5               0                 2   \n",
       "\n",
       "   Menopause  First pregnancy  Parity  Breastfeeding  Highfat  BMI  Ethnicity  \n",
       "0          0                0       0              1        1    1          1  \n",
       "1          0                2       0              0        0    0          1  \n",
       "2          0                0       0              1        1    0          0  \n",
       "3          0                0       2              1        0    0          0  \n",
       "4          0                0       0              1        0    0          1  "
      ]
     },
     "execution_count": 8,
     "metadata": {},
     "output_type": "execute_result"
    }
   ],
   "source": [
    "X, y = df.iloc[:, 1:], df.iloc[:, 0]\n",
    "\n",
    "X.head()"
   ]
  },
  {
   "cell_type": "code",
   "execution_count": 9,
   "metadata": {},
   "outputs": [
    {
     "data": {
      "text/plain": [
       "13"
      ]
     },
     "execution_count": 9,
     "metadata": {},
     "output_type": "execute_result"
    }
   ],
   "source": [
    "len(df.columns)"
   ]
  },
  {
   "cell_type": "code",
   "execution_count": 10,
   "metadata": {},
   "outputs": [],
   "source": [
    "selector = SelectKBest(chi2, k=5).fit(X, y)"
   ]
  },
  {
   "cell_type": "code",
   "execution_count": 11,
   "metadata": {},
   "outputs": [
    {
     "data": {
      "text/plain": [
       "array([ 0.54751131,  1.19350474, 40.23063534,  1.68421053,  0.83937824,\n",
       "        8.82      ,  1.95180723,  7.4496124 ,  4.73521127, 90.13333333,\n",
       "       12.24696356,  0.        ])"
      ]
     },
     "execution_count": 11,
     "metadata": {},
     "output_type": "execute_result"
    }
   ],
   "source": [
    "scores = selector.scores_\n",
    "scores"
   ]
  },
  {
   "cell_type": "code",
   "execution_count": 12,
   "metadata": {},
   "outputs": [
    {
     "data": {
      "text/plain": [
       "Index(['First pregnancy', 'Menarche (years)', 'Highfat', 'Education',\n",
       "       'Breastfeeding'],\n",
       "      dtype='object')"
      ]
     },
     "execution_count": 12,
     "metadata": {},
     "output_type": "execute_result"
    }
   ],
   "source": [
    "best_features = df.columns[scores.argsort()[-5:]]\n",
    "best_features"
   ]
  },
  {
   "cell_type": "code",
   "execution_count": null,
   "metadata": {},
   "outputs": [],
   "source": []
  }
 ],
 "metadata": {
  "kernelspec": {
   "display_name": "Python 3",
   "language": "python",
   "name": "python3"
  },
  "language_info": {
   "codemirror_mode": {
    "name": "ipython",
    "version": 3
   },
   "file_extension": ".py",
   "mimetype": "text/x-python",
   "name": "python",
   "nbconvert_exporter": "python",
   "pygments_lexer": "ipython3",
   "version": "3.11.0"
  },
  "orig_nbformat": 4,
  "vscode": {
   "interpreter": {
    "hash": "c261aea317cc0286b3b3261fbba9abdec21eaa57589985bb7a274bf54d6cc0a7"
   }
  }
 },
 "nbformat": 4,
 "nbformat_minor": 2
}
